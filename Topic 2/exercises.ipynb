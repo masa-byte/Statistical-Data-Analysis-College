{
 "cells": [
  {
   "cell_type": "code",
   "execution_count": 43,
   "metadata": {},
   "outputs": [],
   "source": [
    "import numpy as np\n",
    "import pandas as pd"
   ]
  },
  {
   "cell_type": "markdown",
   "metadata": {},
   "source": [
    "### Cyclists"
   ]
  },
  {
   "cell_type": "code",
   "execution_count": 44,
   "metadata": {},
   "outputs": [
    {
     "data": {
      "text/html": [
       "<div>\n",
       "<style scoped>\n",
       "    .dataframe tbody tr th:only-of-type {\n",
       "        vertical-align: middle;\n",
       "    }\n",
       "\n",
       "    .dataframe tbody tr th {\n",
       "        vertical-align: top;\n",
       "    }\n",
       "\n",
       "    .dataframe thead th {\n",
       "        text-align: right;\n",
       "    }\n",
       "</style>\n",
       "<table border=\"1\" class=\"dataframe\">\n",
       "  <thead>\n",
       "    <tr style=\"text-align: right;\">\n",
       "      <th></th>\n",
       "      <th>date</th>\n",
       "      <th>Eteläesplanadi</th>\n",
       "      <th>Kaivokatu</th>\n",
       "      <th>Kuusisaarentie</th>\n",
       "      <th>Merikannontie</th>\n",
       "      <th>Gallen-Kallela</th>\n",
       "      <th>Länsiväylä</th>\n",
       "      <th>Länsituulenkuja</th>\n",
       "    </tr>\n",
       "  </thead>\n",
       "  <tbody>\n",
       "    <tr>\n",
       "      <th>0</th>\n",
       "      <td>2014-01-01</td>\n",
       "      <td>129.0</td>\n",
       "      <td>NaN</td>\n",
       "      <td>NaN</td>\n",
       "      <td>NaN</td>\n",
       "      <td>NaN</td>\n",
       "      <td>NaN</td>\n",
       "      <td>NaN</td>\n",
       "    </tr>\n",
       "    <tr>\n",
       "      <th>1</th>\n",
       "      <td>2014-01-02</td>\n",
       "      <td>526.0</td>\n",
       "      <td>NaN</td>\n",
       "      <td>NaN</td>\n",
       "      <td>NaN</td>\n",
       "      <td>NaN</td>\n",
       "      <td>NaN</td>\n",
       "      <td>NaN</td>\n",
       "    </tr>\n",
       "    <tr>\n",
       "      <th>2</th>\n",
       "      <td>2014-01-03</td>\n",
       "      <td>546.0</td>\n",
       "      <td>NaN</td>\n",
       "      <td>NaN</td>\n",
       "      <td>NaN</td>\n",
       "      <td>NaN</td>\n",
       "      <td>NaN</td>\n",
       "      <td>NaN</td>\n",
       "    </tr>\n",
       "    <tr>\n",
       "      <th>3</th>\n",
       "      <td>2014-01-04</td>\n",
       "      <td>259.0</td>\n",
       "      <td>NaN</td>\n",
       "      <td>NaN</td>\n",
       "      <td>NaN</td>\n",
       "      <td>NaN</td>\n",
       "      <td>NaN</td>\n",
       "      <td>NaN</td>\n",
       "    </tr>\n",
       "    <tr>\n",
       "      <th>4</th>\n",
       "      <td>2014-01-05</td>\n",
       "      <td>230.0</td>\n",
       "      <td>NaN</td>\n",
       "      <td>NaN</td>\n",
       "      <td>NaN</td>\n",
       "      <td>NaN</td>\n",
       "      <td>NaN</td>\n",
       "      <td>NaN</td>\n",
       "    </tr>\n",
       "  </tbody>\n",
       "</table>\n",
       "</div>"
      ],
      "text/plain": [
       "         date  Eteläesplanadi  Kaivokatu  Kuusisaarentie  Merikannontie  \\\n",
       "0  2014-01-01           129.0        NaN             NaN            NaN   \n",
       "1  2014-01-02           526.0        NaN             NaN            NaN   \n",
       "2  2014-01-03           546.0        NaN             NaN            NaN   \n",
       "3  2014-01-04           259.0        NaN             NaN            NaN   \n",
       "4  2014-01-05           230.0        NaN             NaN            NaN   \n",
       "\n",
       "   Gallen-Kallela  Länsiväylä  Länsituulenkuja  \n",
       "0             NaN         NaN              NaN  \n",
       "1             NaN         NaN              NaN  \n",
       "2             NaN         NaN              NaN  \n",
       "3             NaN         NaN              NaN  \n",
       "4             NaN         NaN              NaN  "
      ]
     },
     "execution_count": 44,
     "metadata": {},
     "output_type": "execute_result"
    }
   ],
   "source": [
    "cyclists_helsinki = pd.read_csv('data/cyclists-helsinki.csv')\n",
    "cyclists_espoo = pd.read_csv('data/cyclists-espoo.csv')\n",
    "\n",
    "cyclists_data = pd.merge(cyclists_helsinki, cyclists_espoo, on='date', how='outer')\n",
    "cyclists_data.head()"
   ]
  },
  {
   "cell_type": "code",
   "execution_count": 45,
   "metadata": {},
   "outputs": [
    {
     "data": {
      "text/plain": [
       "4839490.0"
      ]
     },
     "execution_count": 45,
     "metadata": {},
     "output_type": "execute_result"
    }
   ],
   "source": [
    "result = cyclists_data.iloc[:, 1:].sum()\n",
    "result = result.sort_values(ascending=False)\n",
    "result = result.reset_index()\n",
    "result.columns = ['location', 'cyclists']\n",
    "result.iloc[0, 1]"
   ]
  },
  {
   "cell_type": "code",
   "execution_count": 46,
   "metadata": {},
   "outputs": [
    {
     "name": "stdout",
     "output_type": "stream",
     "text": [
      "Total observed days: 3134\n",
      "Total simultaneously observed days: 1400\n",
      "The busiest street: Merikannontie with 4839490 cyclists\n",
      "The busiest street: Kaivokatu with 3016688 cyclists\n"
     ]
    }
   ],
   "source": [
    "# total number of observation days\n",
    "print(\"Total observed days:\", cyclists_data.shape[0])\n",
    "\n",
    "# number of observation days per street\n",
    "result = cyclists_data.iloc[:, 1:].notna().sum()\n",
    "result.sort_values(ascending=False)\n",
    "\n",
    "# number of days with simultaneous observations on all streets\n",
    "print(\"Total simultaneously observed days:\", cyclists_data.dropna().shape[0])\n",
    "\n",
    "# the busiest street in terms of the total number of cyclists\n",
    "result = cyclists_data.iloc[:, 1:].sum()\n",
    "result = result.sort_values(ascending=False)\n",
    "result = result.reset_index()\n",
    "result.columns = ['location', 'cyclists']\n",
    "street, cyclists = result.iloc[0]\n",
    "print(\"The busiest street:\",  street, \"with\", int(cyclists), \"cyclists\")\n",
    "\n",
    "# trying that with filtering nan values\n",
    "new_data = cyclists_data.dropna()\n",
    "result = new_data.iloc[:, 1:].sum()\n",
    "result = result.sort_values(ascending=False)\n",
    "result = result.reset_index()\n",
    "result.columns = ['location', 'cyclists']\n",
    "street, cyclists = result.iloc[0]\n",
    "\n",
    "print(\"The busiest street:\",  street, \"with\", int(cyclists), \"cyclists\")"
   ]
  },
  {
   "cell_type": "markdown",
   "metadata": {},
   "source": [
    "### Human heights"
   ]
  },
  {
   "cell_type": "code",
   "execution_count": 47,
   "metadata": {},
   "outputs": [
    {
     "data": {
      "image/png": "[encoded data removed]",
      "text/plain": [
       "<Figure size 640x480 with 1 Axes>"
      ]
     },
     "metadata": {},
     "output_type": "display_data"
    },
    {
     "data": {
      "image/png": "[encoded data removed]",
      "text/plain": [
       "<Figure size 640x480 with 1 Axes>"
      ]
     },
     "metadata": {},
     "output_type": "display_data"
    },
    {
     "name": "stdout",
     "output_type": "stream",
     "text": [
      "Statistics=0.976, p=0.939\n",
      "Sample 1 looks Gaussian (fail to reject H0)\n",
      "Statistics=0.919, p=0.033\n",
      "Sample 2 does not look Gaussian (reject H0)\n",
      "176.28571428571428 176.28571428571428\n",
      "Statistics=0.000, p=1.000\n",
      "Same distributions (fail to reject H0)\n"
     ]
    }
   ],
   "source": [
    "import matplotlib.pyplot as plt\n",
    "\n",
    "data1 = [170, 192, 184, 168, 176, 181, 163]\n",
    "data2 = [170, 170, 170, 170, 192, 192, 192, 192, 184, 184, 184, 184, 168, 168, 168, 168, 176, 176, 176, 176, 181, 181, 181, 181, 163, 163, 163, 163]\n",
    "\n",
    "# histograms \n",
    "plt.hist(data2, bins=5, alpha=0.5, label='data2')\n",
    "plt.hist(data1, bins=5, alpha=0.5, label='data1')\n",
    "plt.legend(loc='upper right')\n",
    "plt.show()\n",
    "\n",
    "# density plots\n",
    "plt.figure()\n",
    "pd.Series(data1).plot.kde()\n",
    "pd.Series(data2).plot.kde()\n",
    "plt.legend(['data1', 'data2'])\n",
    "plt.show()\n",
    "\n",
    "# based only on the plots, data 1 is showing a normal distribution, while data 2 is showing a bimodal distribution\n",
    "# the datasets contain similar values, and distributions are different, that is because of the number of observations which are focused around 170 and 180c\n",
    "\n",
    "# Shapiro-Wilk Test\n",
    "# The Shapiro-Wilk test is used to determine if a data sample has a Gaussian distribution.\n",
    "# The null hypothesis of the test is that the data is normally distributed.\n",
    "# If the p-value is less than the significance level, we reject the null hypothesis.\n",
    "# If the p-value is greater than the significance level, we fail to reject the null hypothesis.\n",
    "\n",
    "from scipy.stats import shapiro\n",
    "\n",
    "# normality test\n",
    "stat, p = shapiro(data1)\n",
    "print('Statistics=%.3f, p=%.3f' % (stat, p))\n",
    "alpha = 0.05\n",
    "if p > alpha:\n",
    "    print('Sample 1 looks Gaussian (fail to reject H0)')\n",
    "else:\n",
    "    print('Sample 1 does not look Gaussian (reject H0)')\n",
    "\n",
    "stat, p = shapiro(data2)\n",
    "print('Statistics=%.3f, p=%.3f' % (stat, p))\n",
    "alpha = 0.05\n",
    "if p > alpha:\n",
    "    print('Sample 2 looks Gaussian (fail to reject H0)')\n",
    "else:\n",
    "    print('Sample 2 does not look Gaussian (reject H0)')\n",
    "\n",
    "# The two-sample t-test is used to determine if two population means are equal.\n",
    "# The null hypothesis is that the two means are equal.\n",
    "# If the p-value is less than the significance level, we reject the null hypothesis.\n",
    "# If the p-value is greater than the significance level, we fail to reject the null hypothesis.\n",
    "\n",
    "from scipy.stats import ttest_ind\n",
    "print(np.mean(data1), np.mean(data2))\n",
    "\n",
    "# t-test\n",
    "stat, p = ttest_ind(data1, data2)\n",
    "print('Statistics=%.3f, p=%.3f' % (stat, p))\n",
    "alpha = 0.05\n",
    "if p > alpha:\n",
    "    print('Same distributions (fail to reject H0)')\n",
    "else:\n",
    "    print('Different distributions (reject H0)')"
   ]
  },
  {
   "cell_type": "markdown",
   "metadata": {},
   "source": [
    "### World temperature"
   ]
  },
  {
   "cell_type": "code",
   "execution_count": 48,
   "metadata": {},
   "outputs": [
    {
     "name": "stdout",
     "output_type": "stream",
     "text": [
      "Mean: 0.0657638888888889\n",
      "Median: -0.045\n"
     ]
    },
    {
     "data": {
      "text/html": [
       "<div>\n",
       "<style scoped>\n",
       "    .dataframe tbody tr th:only-of-type {\n",
       "        vertical-align: middle;\n",
       "    }\n",
       "\n",
       "    .dataframe tbody tr th {\n",
       "        vertical-align: top;\n",
       "    }\n",
       "\n",
       "    .dataframe thead th {\n",
       "        text-align: right;\n",
       "    }\n",
       "</style>\n",
       "<table border=\"1\" class=\"dataframe\">\n",
       "  <thead>\n",
       "    <tr style=\"text-align: right;\">\n",
       "      <th></th>\n",
       "      <th>Year</th>\n",
       "      <th>No_Smoothing</th>\n",
       "      <th>Lowess(5)</th>\n",
       "    </tr>\n",
       "  </thead>\n",
       "  <tbody>\n",
       "    <tr>\n",
       "      <th>0</th>\n",
       "      <td>1880</td>\n",
       "      <td>-0.17</td>\n",
       "      <td>-0.09</td>\n",
       "    </tr>\n",
       "    <tr>\n",
       "      <th>1</th>\n",
       "      <td>1881</td>\n",
       "      <td>-0.09</td>\n",
       "      <td>-0.13</td>\n",
       "    </tr>\n",
       "    <tr>\n",
       "      <th>2</th>\n",
       "      <td>1882</td>\n",
       "      <td>-0.11</td>\n",
       "      <td>-0.17</td>\n",
       "    </tr>\n",
       "    <tr>\n",
       "      <th>3</th>\n",
       "      <td>1883</td>\n",
       "      <td>-0.17</td>\n",
       "      <td>-0.20</td>\n",
       "    </tr>\n",
       "    <tr>\n",
       "      <th>4</th>\n",
       "      <td>1884</td>\n",
       "      <td>-0.28</td>\n",
       "      <td>-0.24</td>\n",
       "    </tr>\n",
       "  </tbody>\n",
       "</table>\n",
       "</div>"
      ],
      "text/plain": [
       "   Year  No_Smoothing  Lowess(5)\n",
       "0  1880         -0.17      -0.09\n",
       "1  1881         -0.09      -0.13\n",
       "2  1882         -0.11      -0.17\n",
       "3  1883         -0.17      -0.20\n",
       "4  1884         -0.28      -0.24"
      ]
     },
     "execution_count": 48,
     "metadata": {},
     "output_type": "execute_result"
    }
   ],
   "source": [
    "world_data = pd.read_csv('data/global-temperature.csv')\n",
    "\n",
    "print(\"Mean:\", world_data[\"No_Smoothing\"].mean())\n",
    "print(\"Median:\", world_data[\"No_Smoothing\"].median())\n",
    "\n",
    "world_data.head()\n"
   ]
  },
  {
   "cell_type": "code",
   "execution_count": 49,
   "metadata": {},
   "outputs": [
    {
     "data": {
      "image/png": "[encoded data removed]",
      "text/plain": [
       "<Figure size 640x480 with 1 Axes>"
      ]
     },
     "metadata": {},
     "output_type": "display_data"
    },
    {
     "data": {
      "image/png": "[encoded data removed]",
      "text/plain": [
       "<Figure size 640x480 with 1 Axes>"
      ]
     },
     "metadata": {},
     "output_type": "display_data"
    },
    {
     "name": "stdout",
     "output_type": "stream",
     "text": [
      "Statistics=0.972, p=0.012\n",
      "Sample 1 does not look Gaussian (reject H0)\n",
      "Statistics=0.956, p=0.369\n",
      "Sample 2 looks Gaussian (fail to reject H0)\n",
      "-0.06975 0.7433333333333333\n",
      "Statistics=-15.922, p=0.000\n",
      "Different distributions (reject H0)\n"
     ]
    }
   ],
   "source": [
    "data_before_2000 = world_data.loc[world_data[\"Year\"] < 2000, \"No_Smoothing\"]\n",
    "data_after_2000 = world_data.loc[world_data[\"Year\"] >= 2000, \"No_Smoothing\"]\n",
    "\n",
    "# histograms\n",
    "plt.hist(data_before_2000, bins=20, alpha=0.5, label='before 2000')\n",
    "plt.hist(data_after_2000, bins=20, alpha=0.5, label='after 2000')\n",
    "plt.legend(loc='upper right')\n",
    "plt.show()\n",
    "\n",
    "# density plots\n",
    "plt.figure()\n",
    "data_before_2000.plot.kde()\n",
    "data_after_2000.plot.kde()\n",
    "plt.legend(['before 2000', 'after 2000'])\n",
    "plt.show()\n",
    "\n",
    "# both of these seem to be left-skewed\n",
    "\n",
    "# Shapiro-Wilk Test\n",
    "# The Shapiro-Wilk test is used to determine if a data sample has a Gaussian distribution.\n",
    "# The null hypothesis of the test is that the data is normally distributed.\n",
    "# If the p-value is less than the significance level, we reject the null hypothesis.\n",
    "# If the p-value is greater than the significance level, we fail to reject the null hypothesis.\n",
    "\n",
    "from scipy.stats import shapiro\n",
    "\n",
    "# normality test\n",
    "stat, p = shapiro(data_before_2000)\n",
    "print('Statistics=%.3f, p=%.3f' % (stat, p))\n",
    "alpha = 0.05\n",
    "if p > alpha:\n",
    "    print('Sample 1 looks Gaussian (fail to reject H0)')\n",
    "else:\n",
    "    print('Sample 1 does not look Gaussian (reject H0)')\n",
    "\n",
    "stat, p = shapiro(data_after_2000)\n",
    "print('Statistics=%.3f, p=%.3f' % (stat, p))\n",
    "alpha = 0.05\n",
    "if p > alpha:\n",
    "    print('Sample 2 looks Gaussian (fail to reject H0)')\n",
    "else:\n",
    "    print('Sample 2 does not look Gaussian (reject H0)')\n",
    "\n",
    "# The two-sample t-test is used to determine if two population means are equal.\n",
    "# The null hypothesis is that the two means are equal.\n",
    "# If the p-value is less than the significance level, we reject the null hypothesis.\n",
    "# If the p-value is greater than the significance level, we fail to reject the null hypothesis.\n",
    "\n",
    "from scipy.stats import ttest_ind\n",
    "print(np.mean(data_before_2000), np.mean(data_after_2000))\n",
    "\n",
    "# t-test\n",
    "stat, p = ttest_ind(data_before_2000, data_after_2000)\n",
    "print('Statistics=%.3f, p=%.3f' % (stat, p))\n",
    "alpha = 0.05\n",
    "if p > alpha:\n",
    "    print('Same distributions (fail to reject H0)')\n",
    "else:\n",
    "    print('Different distributions (reject H0)')"
   ]
  },
  {
   "cell_type": "markdown",
   "metadata": {},
   "source": [
    "### Electric bikes"
   ]
  },
  {
   "cell_type": "code",
   "execution_count": 50,
   "metadata": {},
   "outputs": [
    {
     "data": {
      "text/html": [
       "<div>\n",
       "<style scoped>\n",
       "    .dataframe tbody tr th:only-of-type {\n",
       "        vertical-align: middle;\n",
       "    }\n",
       "\n",
       "    .dataframe tbody tr th {\n",
       "        vertical-align: top;\n",
       "    }\n",
       "\n",
       "    .dataframe thead th {\n",
       "        text-align: right;\n",
       "    }\n",
       "</style>\n",
       "<table border=\"1\" class=\"dataframe\">\n",
       "  <thead>\n",
       "    <tr style=\"text-align: right;\">\n",
       "      <th></th>\n",
       "      <th>ticket</th>\n",
       "      <th>cost</th>\n",
       "      <th>month</th>\n",
       "      <th>location_from</th>\n",
       "      <th>location_to</th>\n",
       "      <th>duration</th>\n",
       "      <th>distance</th>\n",
       "      <th>assistance</th>\n",
       "      <th>energy_used</th>\n",
       "      <th>energy_collected</th>\n",
       "    </tr>\n",
       "  </thead>\n",
       "  <tbody>\n",
       "    <tr>\n",
       "      <th>0</th>\n",
       "      <td>single</td>\n",
       "      <td>0.35</td>\n",
       "      <td>9</td>\n",
       "      <td>MICROTEKNIA</td>\n",
       "      <td>PUIJONLAAKSO</td>\n",
       "      <td>411.0</td>\n",
       "      <td>2150</td>\n",
       "      <td>1</td>\n",
       "      <td>19.0</td>\n",
       "      <td>2.7</td>\n",
       "    </tr>\n",
       "    <tr>\n",
       "      <th>1</th>\n",
       "      <td>single</td>\n",
       "      <td>1.20</td>\n",
       "      <td>5</td>\n",
       "      <td>SATAMA</td>\n",
       "      <td>KEILANKANTA</td>\n",
       "      <td>1411.0</td>\n",
       "      <td>7130</td>\n",
       "      <td>1</td>\n",
       "      <td>53.8</td>\n",
       "      <td>15.3</td>\n",
       "    </tr>\n",
       "    <tr>\n",
       "      <th>2</th>\n",
       "      <td>savonia</td>\n",
       "      <td>0.00</td>\n",
       "      <td>9</td>\n",
       "      <td>TASAVALLANKATU</td>\n",
       "      <td>NEULAMÄKI</td>\n",
       "      <td>1308.0</td>\n",
       "      <td>5420</td>\n",
       "      <td>1</td>\n",
       "      <td>43.0</td>\n",
       "      <td>9.9</td>\n",
       "    </tr>\n",
       "    <tr>\n",
       "      <th>3</th>\n",
       "      <td>savonia</td>\n",
       "      <td>0.00</td>\n",
       "      <td>10</td>\n",
       "      <td>TORI</td>\n",
       "      <td>KAUPPAKATU</td>\n",
       "      <td>1036.0</td>\n",
       "      <td>1180</td>\n",
       "      <td>1</td>\n",
       "      <td>6.5</td>\n",
       "      <td>2.1</td>\n",
       "    </tr>\n",
       "    <tr>\n",
       "      <th>4</th>\n",
       "      <td>single</td>\n",
       "      <td>0.30</td>\n",
       "      <td>9</td>\n",
       "      <td>TORI</td>\n",
       "      <td>TORI</td>\n",
       "      <td>319.0</td>\n",
       "      <td>1120</td>\n",
       "      <td>1</td>\n",
       "      <td>13.7</td>\n",
       "      <td>1.2</td>\n",
       "    </tr>\n",
       "  </tbody>\n",
       "</table>\n",
       "</div>"
      ],
      "text/plain": [
       "    ticket  cost  month   location_from   location_to  duration  distance  \\\n",
       "0   single  0.35      9     MICROTEKNIA  PUIJONLAAKSO     411.0      2150   \n",
       "1   single  1.20      5          SATAMA   KEILANKANTA    1411.0      7130   \n",
       "2  savonia  0.00      9  TASAVALLANKATU     NEULAMÄKI    1308.0      5420   \n",
       "3  savonia  0.00     10            TORI    KAUPPAKATU    1036.0      1180   \n",
       "4   single  0.30      9            TORI          TORI     319.0      1120   \n",
       "\n",
       "   assistance  energy_used  energy_collected  \n",
       "0           1         19.0               2.7  \n",
       "1           1         53.8              15.3  \n",
       "2           1         43.0               9.9  \n",
       "3           1          6.5               2.1  \n",
       "4           1         13.7               1.2  "
      ]
     },
     "execution_count": 50,
     "metadata": {},
     "output_type": "execute_result"
    }
   ],
   "source": [
    "bikes_data = pd.read_csv('data/bikes.data')\n",
    "\n",
    "bikes_data.head()"
   ]
  },
  {
   "cell_type": "code",
   "execution_count": 51,
   "metadata": {},
   "outputs": [
    {
     "name": "stdout",
     "output_type": "stream",
     "text": [
      "['single' 'savonia' 'season']\n",
      "There are negative values in duration column\n",
      "Number of rows where energy collected is greater than energy used:  241\n",
      "Percentage of rows where energy collected is greater than energy used:  13.58511837655017\n",
      "Total number of rows:  1774\n"
     ]
    }
   ],
   "source": [
    "print(bikes_data['ticket'].unique())    \n",
    "\n",
    "if True in bikes_data.cost < 0:\n",
    "    print('There are negative values in cost column')\n",
    "\n",
    "if set(bikes_data.month.unique()) > set(range(1, 13)):\n",
    "    print('There are values in month column that are not in range 1-12')\n",
    "\n",
    "bikes_data.duration.values.sort()\n",
    "if bikes_data.duration.values[0] < 0:\n",
    "    print('There are negative values in duration column')\n",
    "\n",
    "bikes_data.distance.values.sort()\n",
    "if bikes_data.distance.values[0] < 0:\n",
    "    print('There are negative values in duration column')\n",
    "\n",
    "if set(bikes_data.assistance.unique()) > set([0, 1]):\n",
    "    print('There are values in assistance column that are not 0 or 1')\n",
    "\n",
    "count = 0\n",
    "for row in bikes_data.itertuples():\n",
    "    if row.energy_collected > row.energy_used:\n",
    "        count += 1\n",
    "\n",
    "print(\"Number of rows where energy collected is greater than energy used: \", count)\n",
    "print(\"Percentage of rows where energy collected is greater than energy used: \", count / bikes_data.shape[0] * 100)\n",
    "print(\"Total number of rows: \", bikes_data.shape[0])"
   ]
  },
  {
   "cell_type": "markdown",
   "metadata": {},
   "source": [
    "Variables and their types\n",
    "- ticket - categorical (discrete by default), nominal\n",
    "- cost - numerical, continuous, ratio\n",
    "- month - categorical (discrete by default), ordinal\n",
    "- location_from - categorical (discrete by default), nominal\n",
    "- location_to - categorical (discrete by default), nominal\n",
    "- duration - numerical, continuous, ratio\n",
    "- distance - numerical, continuous, ratio\n",
    "- assistance - categorical (discrete by default), nominal, indicator\n",
    "- energy_used - numerical, continuous, ratio"
   ]
  }
 ],
 "metadata": {
  "kernelspec": {
   "display_name": "Python 3",
   "language": "python",
   "name": "python3"
  },
  "language_info": {
   "codemirror_mode": {
    "name": "ipython",
    "version": 3
   },
   "file_extension": ".py",
   "mimetype": "text/x-python",
   "name": "python",
   "nbconvert_exporter": "python",
   "pygments_lexer": "ipython3",
   "version": "3.11.4"
  }
 },
 "nbformat": 4,
 "nbformat_minor": 2
}
